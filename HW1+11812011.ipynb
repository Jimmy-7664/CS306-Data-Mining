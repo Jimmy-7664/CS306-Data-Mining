{
 "cells": [
  {
   "cell_type": "code",
   "execution_count": 1,
   "metadata": {
    "pycharm": {
     "is_executing": true,
     "name": "#%%\n"
    }
   },
   "outputs": [
    {
     "name": "stdout",
     "output_type": "stream",
     "text": [
      "667536\n",
      "(667536, 14)\n"
     ]
    }
   ],
   "source": [
    "import pandas as pd\n",
    "import chardet\n",
    "import time\n",
    "t1=time.time()\n",
    "#1、读入数据\n",
    "f = pd.read_csv('HW1data.csv', encoding='ISO-8859-1')\n",
    "# 查看编码\n",
    "# with open('HW1data.csv','rb') as data:\n",
    "#     res=chardet.detect(data.read(1000))\n",
    "# print(res)\n",
    "#2、补全数据\n",
    "genderdict = {}\n",
    "agedict = {}\n",
    "Neighdict = {}\n",
    "totallen = f.shape[0]\n",
    "print(totallen)\n",
    "# 记录age,gender,Neighbourhood信息\n",
    "for i in range(0, totallen):\n",
    "    if len(str(f['PatientId'][i])) > 3:\n",
    "        if str(f['Gender'][i]) != 'nan':\n",
    "            genderdict[str(f['PatientId'][i])[:-2]] = f['Gender'][i]\n",
    "        if str(f['Age'][i]) != 'nan':\n",
    "            agedict[str(f['PatientId'][i])[:-2]] = f['Age'][i]\n",
    "        if str(f['Neighbourhood'][i]) != 'nan':\n",
    "            Neighdict[str(f['PatientId'][i])[:-2]] = f['Neighbourhood'][i]\n",
    "print(f.shape)\n",
    "\n"
   ]
  },
  {
   "cell_type": "code",
   "execution_count": 2,
   "metadata": {
    "pycharm": {
     "is_executing": true
    }
   },
   "outputs": [
    {
     "name": "stderr",
     "output_type": "stream",
     "text": [
      "d:\\anaconda3\\envs\\env\\lib\\site-packages\\ipykernel_launcher.py:8: SettingWithCopyWarning: \n",
      "A value is trying to be set on a copy of a slice from a DataFrame\n",
      "\n",
      "See the caveats in the documentation: https://pandas.pydata.org/pandas-docs/stable/user_guide/indexing.html#returning-a-view-versus-a-copy\n",
      "  \n",
      "d:\\anaconda3\\envs\\env\\lib\\site-packages\\ipykernel_launcher.py:10: SettingWithCopyWarning: \n",
      "A value is trying to be set on a copy of a slice from a DataFrame\n",
      "\n",
      "See the caveats in the documentation: https://pandas.pydata.org/pandas-docs/stable/user_guide/indexing.html#returning-a-view-versus-a-copy\n",
      "  # Remove the CWD from sys.path while we load stuff.\n",
      "d:\\anaconda3\\envs\\env\\lib\\site-packages\\ipykernel_launcher.py:12: SettingWithCopyWarning: \n",
      "A value is trying to be set on a copy of a slice from a DataFrame\n",
      "\n",
      "See the caveats in the documentation: https://pandas.pydata.org/pandas-docs/stable/user_guide/indexing.html#returning-a-view-versus-a-copy\n",
      "  if sys.path[0] == '':\n"
     ]
    },
    {
     "name": "stdout",
     "output_type": "stream",
     "text": [
      "(413654, 14)\n",
      "PatientId             0\n",
      "AppointmentID     34490\n",
      "Gender                0\n",
      "ScheduledDay          0\n",
      "AppointmentDay        0\n",
      "Age                   0\n",
      "Neighbourhood         0\n",
      "Scholarship       35013\n",
      "Hipertension      34734\n",
      "Diabetes          34652\n",
      "Alcoholism        34956\n",
      "Handcap           34882\n",
      "SMS_received          0\n",
      "No-show               0\n",
      "dtype: int64\n"
     ]
    }
   ],
   "source": [
    "# print(len(agedict.keys()))\n",
    "# print(len(genderdict.keys()))\n",
    "# print(len(Neighdict.keys()))\n",
    "#遍历补全信息\n",
    "for i in range(0,totallen):\n",
    "    if len(str(f['PatientId'][i])) > 3:\n",
    "        if str(f['Gender'][i]) == 'nan':\n",
    "            f['Gender'][i] = genderdict[str(f['PatientId'][i])[:-2]]\n",
    "        if str(f['Age'][i]) == 'nan':\n",
    "            f['Age'][i] = agedict[str(f['PatientId'][i])[:-2]]\n",
    "        if str(f['Neighbourhood'][i]) == 'nan':\n",
    "            f['Neighbourhood'][i] = Neighdict[str(f['PatientId'][i])[:-2]]\n",
    "#删除空行\n",
    "f.dropna(axis=0, subset=['PatientId', 'ScheduledDay', 'AppointmentDay', 'SMS_received', 'No-show'], how='any',\n",
    "         inplace=True)\n",
    "print(f.shape)\n",
    "totallen = f.shape[0]\n",
    "\n",
    "print(f.isnull().sum())\n"
   ]
  },
  {
   "cell_type": "code",
   "execution_count": 3,
   "metadata": {
    "pycharm": {
     "is_executing": true
    }
   },
   "outputs": [
    {
     "name": "stdout",
     "output_type": "stream",
     "text": [
      "PatientId             0\n",
      "AppointmentID     34490\n",
      "Gender                0\n",
      "ScheduledDay          0\n",
      "AppointmentDay        0\n",
      "Age                   0\n",
      "Neighbourhood         0\n",
      "Scholarship           0\n",
      "Hipertension          0\n",
      "Diabetes              0\n",
      "Alcoholism            0\n",
      "Handcap               0\n",
      "SMS_received          0\n",
      "No-show               0\n",
      "dtype: int64\n"
     ]
    }
   ],
   "source": [
    "#4、补0\n",
    "f['Scholarship']=f['Scholarship'].fillna(0)\n",
    "f['Hipertension']=f['Hipertension'].fillna(0)\n",
    "f['Diabetes']=f['Diabetes'].fillna(0)\n",
    "f['Handcap']=f['Handcap'].fillna(0)\n",
    "f['Alcoholism']=f['Alcoholism'].fillna(0)\n",
    "print(f.isnull().sum())\n",
    "\n"
   ]
  },
  {
   "cell_type": "code",
   "execution_count": 4,
   "metadata": {
    "pycharm": {
     "is_executing": true
    }
   },
   "outputs": [
    {
     "name": "stdout",
     "output_type": "stream",
     "text": [
      "(413654, 12)\n"
     ]
    }
   ],
   "source": [
    "#5、删除 id列\n",
    "f=f.drop(columns = ['PatientId'])\n",
    "f=f.drop(columns = ['AppointmentID'])\n",
    "print(f.shape)\n"
   ]
  },
  {
   "cell_type": "code",
   "execution_count": 5,
   "metadata": {
    "pycharm": {
     "is_executing": true
    }
   },
   "outputs": [
    {
     "name": "stdout",
     "output_type": "stream",
     "text": [
      "0.0\n",
      "115.0\n",
      "(413650, 12)\n"
     ]
    }
   ],
   "source": [
    "# print(f['Age'].min())\n",
    "# print(f['Age'].max())\n",
    "#6、删除age为-1的行\n",
    "f=f[~f['Age'].isin([-1])]\n",
    "\n",
    "print(f['Age'].min())\n",
    "print(f['Age'].max())\n",
    "print(f.shape)"
   ]
  },
  {
   "cell_type": "code",
   "execution_count": 6,
   "metadata": {
    "pycharm": {
     "is_executing": true
    }
   },
   "outputs": [
    {
     "name": "stdout",
     "output_type": "stream",
     "text": [
      "(71959, 13)\n"
     ]
    }
   ],
   "source": [
    "#7、创建新列\n",
    "new_df = pd.DataFrame((pd.to_datetime(f['AppointmentDay']) - pd.to_datetime(f['ScheduledDay'])).dt.total_seconds()/60/60/24)\n",
    "f['Delta_Day']=list(new_df[0])\n",
    "\n",
    "f=f[f['Delta_Day']>=0]# 删除负数天数的行\n",
    "f['Delta_Day']=f['Delta_Day'].map(lambda x:int(x))\n",
    "print(f.shape)\n"
   ]
  },
  {
   "cell_type": "code",
   "execution_count": 7,
   "metadata": {
    "pycharm": {
     "is_executing": true,
     "name": "#%%\n"
    }
   },
   "outputs": [
    {
     "name": "stdout",
     "output_type": "stream",
     "text": [
      "(71959, 15)\n"
     ]
    }
   ],
   "source": [
    "#8、计算星期\n",
    "f['AppointmentDay']=pd.to_datetime(f['AppointmentDay'])\n",
    "#输出这一天是周中的第几天，Monday, Sunday\n",
    "f['ADay_DOW']=f['AppointmentDay'].dt.day_name()\n",
    "\n",
    "f['ScheduledDay']=pd.to_datetime(f['ScheduledDay'])\n",
    "#输出这一天是周中的第几天，Monday, Sunday\n",
    "f['SDay_DOW']=f['ScheduledDay'].dt.day_name()\n",
    "print(f.shape)\n"
   ]
  },
  {
   "cell_type": "code",
   "execution_count": 8,
   "metadata": {
    "pycharm": {
     "is_executing": true,
     "name": "#%%\n"
    }
   },
   "outputs": [
    {
     "name": "stdout",
     "output_type": "stream",
     "text": [
      "   Gender   Age        Neighbourhood  Scholarship  Hipertension  Diabetes  \\\n",
      "0       F  21.0  ILHA DE SANTA MARIA          0.0           0.0       0.0   \n",
      "2       F  41.0              ITARARÉ          0.0           0.0       0.0   \n",
      "12      M  82.0      JARDIM DA PENHA          0.0           0.0       0.0   \n",
      "13      F  61.0       BENTO FERREIRA          0.0           0.0       0.0   \n",
      "14      F  63.0       JARDIM CAMBURI          0.0           0.0       0.0   \n",
      "\n",
      "    Alcoholism  Handcap  SMS_received No-show  Delta_Day   ADay_DOW SDay_DOW  \n",
      "0          0.0      0.0           1.0      No          7  Wednesday  Tuesday  \n",
      "2          0.0      0.0           0.0      No         19     Monday  Tuesday  \n",
      "12         0.0      0.0           1.0      No         27     Monday   Monday  \n",
      "13         0.0      0.0           1.0      No         13     Friday   Friday  \n",
      "14         0.0      0.0           0.0     Yes         48    Tuesday  Tuesday  \n",
      "(71959, 13)\n"
     ]
    }
   ],
   "source": [
    "#9、删除原有的两列Day\n",
    "f=f.drop(columns = ['ScheduledDay'])\n",
    "f=f.drop(columns = ['AppointmentDay'])\n",
    "t2=time.time()\n",
    "print(f.head())\n",
    "# print(t2-t1)\n",
    "print(f.shape)"
   ]
  },
  {
   "cell_type": "code",
   "execution_count": 9,
   "metadata": {
    "pycharm": {
     "is_executing": true
    }
   },
   "outputs": [],
   "source": [
    "#f.to_csv(\"Result.csv\")# 输出到csv文件"
   ]
  },
  {
   "cell_type": "code",
   "execution_count": 10,
   "metadata": {
    "pycharm": {
     "is_executing": true
    }
   },
   "outputs": [],
   "source": [
    "# f.drop_duplicates(inplace=True)\n",
    "# print(f.shape)"
   ]
  }
 ],
 "metadata": {
  "kernelspec": {
   "display_name": "Python 3",
   "language": "python",
   "name": "python3"
  },
  "language_info": {
   "codemirror_mode": {
    "name": "ipython",
    "version": 3
   },
   "file_extension": ".py",
   "mimetype": "text/x-python",
   "name": "python",
   "nbconvert_exporter": "python",
   "pygments_lexer": "ipython3",
   "version": "3.7.9"
  },
  "pycharm": {
   "stem_cell": {
    "cell_type": "raw",
    "metadata": {
     "collapsed": false
    },
    "source": []
   }
  }
 },
 "nbformat": 4,
 "nbformat_minor": 1
}
