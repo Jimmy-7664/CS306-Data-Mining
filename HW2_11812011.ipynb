{
 "cells": [
  {
   "cell_type": "code",
   "execution_count": null,
   "metadata": {
    "pycharm": {
     "is_executing": false,
     "name": "#%%\n"
    }
   },
   "outputs": [],
   "source": [
    "import time\n",
    "from sklearn.ensemble import GradientBoostingClassifier, VotingClassifier, RandomForestClassifier\n",
    "from sklearn.metrics import classification_report, accuracy_score\n",
    "\n",
    "import pandas as pd\n",
    "# Task1\n",
    "f = pd.read_csv('HW2_1_data.csv')\n",
    "# 删除存在空值的数据\n",
    "\n",
    "f.dropna(axis=0, subset=['free sulfur dioxide', 'pH', 'chlorides', 'residual sugar'], how='any',\n",
    "         inplace=True)\n",
    "\n"
   ]
  },
  {
   "cell_type": "code",
   "execution_count": null,
   "metadata": {
    "pycharm": {
     "is_executing": false
    }
   },
   "outputs": [],
   "source": [
    "X = f[['fixed acidity','volatile acidity','citric acid','residual sugar','chlorides','free sulfur dioxide','total sulfur dioxide','density','pH','sulphates','alcohol']].values\n",
    "y = f['quality'].values\n",
    "\n",
    "from sklearn.preprocessing import StandardScaler\n",
    "#标准化\n",
    "scaler = StandardScaler()\n",
    "X = scaler.fit_transform(X)\n",
    "from sklearn.model_selection import train_test_split\n",
    "#spilt into training set and test set\n",
    "X_train, X_test, y_train, y_test = train_test_split(X, y, test_size=0.2,random_state=2)\n",
    "   \n",
    "clf = GradientBoostingClassifier(n_estimators=200)   \n",
    "clf.fit(X_train, y_train)\n",
    "prediction =clf.predict(X_test)\n",
    "print(\"Accuracy for Task1 using model:GradientBoostingClassifier is \",accuracy_score(y_test,prediction))\n",
    "from sklearn import tree\n",
    "clf = tree.DecisionTreeClassifier()\n",
    "clf = clf.fit(X_train,y_train)\n",
    "y_pred=clf.predict(X_test)\n",
    "\n",
    "print(\"Accuracy for Task1 using model:DecisionTree is \",accuracy_score(y_test,y_pred))"
   ]
  },
  {
   "cell_type": "code",
   "execution_count": null,
   "metadata": {
    "pycharm": {
     "is_executing": false
    }
   },
   "outputs": [],
   "source": [
    "# Task2\n",
    "# 读取文件，并删除存在空值的数据\n",
    "\n",
    "f = pd.read_csv('HW2_2_data.csv')\n",
    "f.dropna(axis=0, subset=['x1','x2','x3','class'], how='any',\n",
    "         inplace=True)\n",
    "\n",
    "# print(f.isnull().sum())\n",
    "\n",
    "X = f[['x1','x2','x3']].values\n",
    "y = f['class'].values\n",
    "#标准化\n",
    "scaler = StandardScaler()\n",
    "X = scaler.fit_transform(X)\n",
    "#spilt into training set and test set\n",
    "X_train, X_test, y_train, y_test = train_test_split(X, y, test_size=0.2,random_state=2)\n",
    "\n",
    "from sklearn.neighbors import KNeighborsClassifier    \n",
    "clf = KNeighborsClassifier() \n",
    "clf.fit(X_train, y_train)\n",
    "prediction =clf.predict(X_test)\n",
    "# print(classification_report(y_test,prediction))\n",
    "print(\"Accuracy for Task2 using model:KNN is \",accuracy_score(y_test,prediction))\n",
    "\n"
   ]
  }
 ],
 "metadata": {
  "kernelspec": {
   "display_name": "Python 3",
   "language": "python",
   "name": "python3"
  },
  "language_info": {
   "codemirror_mode": {
    "name": "ipython",
    "version": 3
   },
   "file_extension": ".py",
   "mimetype": "text/x-python",
   "name": "python",
   "nbconvert_exporter": "python",
   "pygments_lexer": "ipython3",
   "version": "3.7.9"
  },
  "pycharm": {
   "stem_cell": {
    "cell_type": "raw",
    "metadata": {
     "collapsed": false
    },
    "source": []
   }
  }
 },
 "nbformat": 4,
 "nbformat_minor": 1
}
