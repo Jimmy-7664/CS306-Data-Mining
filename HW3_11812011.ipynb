{
 "cells": [
  {
   "cell_type": "code",
   "execution_count": null,
   "metadata": {
    "pycharm": {
     "is_executing": true,
     "name": "#%%\n"
    },
    "scrolled": true
   },
   "outputs": [],
   "source": [
    "import time\n",
    "import matplotlib.pyplot as plt\n",
    "import numpy as np\n",
    "import pandas as pd\n",
    "from sklearn.preprocessing import StandardScaler\n",
    "import time\n",
    "# Task1\n",
    "#读入数据\n",
    "# 查看编码\n",
    "# with open('HW3_1_data.csv','rb') as data:\n",
    "#     res=chardet.detect(data.read(1000))\n",
    "# print(res)\n",
    "a=time.time()\n",
    "f = pd.read_csv('HW3_1_data.csv')\n",
    "# 删除存在空值的数据\n",
    "f.dropna(axis=0, subset=['x1', 'x2'], how='any',inplace=True)\n",
    "X = f[['x1','x2']].values\n",
    "\n",
    "from sklearn import metrics\n",
    "from sklearn.cluster import KMeans\n",
    "#Kmeans,根据教学课件中，选择n_clusters和max_iter作为重要参数来进行调参\n",
    "#使用calinski_harabasz score来作为衡量标准，score越高，则表明效果越好\n",
    "print(\"Task1第一个模型为Kmeans，选择n_clusters和max_iter作为重要参数\")\n",
    "print('评价标准使用课件上所讲的calinski_harabasz score，越高则聚类效果越好')\n",
    "#max表示最高的calinski_harabasz分数\n",
    "#maxi表示最高calinski_harabasz分数的n_clusters的值（即簇的个数）\n",
    "#maxj表示最高calinski_harabasz分数的max_iter的值\n",
    "max=0\n",
    "maxi=0\n",
    "maxj=0\n",
    "# 使用循环来进行调参，选择出范围内calinski_harabasz分数最高的参数\n",
    "#根据观察，初步确定参数的范围i从2到30，j从100到700\n",
    "for i in range(2,30):\n",
    "    for j in range(100,700,100):\n",
    "        #训练模型\n",
    "        kmeans= KMeans(n_clusters=i,max_iter=j)\n",
    "        y_pred = kmeans.fit_predict(X)\n",
    "        #因为这里Kmeans的n_clusters>1,所以不会分为1类\n",
    "        #因此不用考虑分类为1时，calinski_harabasz_score不存在的情况\n",
    "        #如果当前参数的calinski_harabasz_score更高，则选择更好的参数\n",
    "        if max<metrics.calinski_harabasz_score(X, y_pred):\n",
    "            #使用当前参数更新max，maxi,maxj\n",
    "            max=metrics.calinski_harabasz_score(X, y_pred)\n",
    "            maxi=i\n",
    "            maxj=j\n",
    "#打印出最佳的n_clusters,max_iter值，以及calinski_harabasz_score\n",
    "print('Best n_clusters for Kmeans is :'+str(maxi))\n",
    "print('Best max_iter for Kmeans is :'+str(maxj))\n",
    "print('Best calinski_harabasz_score for Kmeans is :'+str(max))\n",
    "#将效果最好的参数训练的模型绘制出来\n",
    "kmeans= KMeans(n_clusters=maxi,max_iter=maxj)\n",
    "y_pred = kmeans.fit_predict(X)\n",
    "plt.scatter(X[:, 0], X[:, 1], c=y_pred)\n",
    "plt.xlabel(i)\n",
    "plt.ylabel(j)\n",
    "plt.show()"
   ]
  },
  {
   "cell_type": "code",
   "execution_count": null,
   "metadata": {
    "pycharm": {
     "is_executing": true
    }
   },
   "outputs": [],
   "source": [
    "\n",
    "#重置max,maxi,maj的值，使用第二种模型DBSCAN来进行参数选择\n",
    "max=0\n",
    "maxi=0\n",
    "maxj=0\n",
    "from sklearn.cluster import DBSCAN\n",
    "#DBSCAN,根据教学课件中，选择eps和min_samples作为重要参数来进行调参\n",
    "print(\"Task1第二个模型为Kmeans，选择eps和min_samples作为重要参数\")\n",
    "print('评价标准使用课件上所讲的calinski_harabasz score，越高则聚类效果越好')\n",
    "#同样使用calinski_harabasz score来作为衡量标准，score越高，则表明效果越好\n",
    "#max表示最高的calinski_harabasz分数\n",
    "#maxi表示最高calinski_harabasz分数的eps的值\n",
    "#maxj表示最高calinski_harabasz分数的min_samples的值\n",
    "\n",
    "for i in range(1,60):\n",
    "    for j in range(3,30):\n",
    "        #训练模型\n",
    "        dbscan = DBSCAN(eps = i/20, min_samples = j)\n",
    "        y_pred = dbscan.fit_predict(X)\n",
    "        #保证最终分类的结果数大于1，这样才可以计算calinski_harabasz_score（不计算噪声））\n",
    "        #（calinski_harabasz_score要求最终分类的数目大于一）\n",
    "        if len(np.unique(dbscan.labels_))>2:   \n",
    "            #如果当前参数的calinski_harabasz_score更高，则选择更好的参数\n",
    "            if metrics.calinski_harabasz_score(X, y_pred)>max:\n",
    "                #使用当前参数更新max，maxi,maxj\n",
    "                max=metrics.calinski_harabasz_score(X, y_pred)\n",
    "                maxi=i\n",
    "                maxj=j\n",
    "#打印出最佳的eps,min_samples值，以及calinski_harabasz_score\n",
    "print('Best eps for DBSCAN is :'+str(maxi/20))\n",
    "print('Best min_samples for DBSCAN is :'+str(maxj))\n",
    "print('Best calinski_harabasz_score for DBSCAN is :'+str(max))\n",
    "#将效果最好的参数训练的模型绘制出来\n",
    "dbscan = DBSCAN(eps = maxi/20, min_samples = maxj)\n",
    "y_pred = dbscan.fit_predict(X)\n",
    "plt.scatter(X[:, 0], X[:, 1], c=y_pred)\n",
    "plt.xlabel(i)\n",
    "plt.ylabel(j)\n",
    "plt.show()\n",
    "b=time.time()\n",
    "print('Running time for task2 is: '+str((b-a)))"
   ]
  },
  {
   "cell_type": "code",
   "execution_count": null,
   "metadata": {
    "pycharm": {
     "is_executing": true
    }
   },
   "outputs": [],
   "source": [
    "# Task2\n",
    "#读入数据\n",
    "# 查看编码\n",
    "# with open('HW3_2_data.csv','rb') as data:\n",
    "#     res=chardet.detect(data.read(1000))\n",
    "# print(res)\n",
    "b=time.time()\n",
    "f = pd.read_csv('HW3_2_data.csv')\n",
    "#查看是否存在含有空值的数据\n",
    "#print(f.isnull().sum())\n",
    "#print(f.shape)\n",
    "#去除含有空值的数据\n",
    "f.dropna(axis=0, subset=['BALANCE','BALANCE_FREQUENCY','PURCHASES','ONEOFF_PURCHASES','INSTALLMENTS_PURCHASES','CASH_ADVANCE','PURCHASES_FREQUENCY','ONEOFF_PURCHASES_FREQUENCY','PURCHASES_INSTALLMENTS_FREQUENCY','CASH_ADVANCE_FREQUENCY','CASH_ADVANCE_TRX','PURCHASES_TRX','CREDIT_LIMIT','PAYMENTS','MINIMUM_PAYMENTS','PRC_FULL_PAYMENT','TENURE'], how='any',inplace=True)\n",
    "#读取时去除了ID列，ID列对分类并无作用，不应作为数据的一个特征\n",
    "X = f[['BALANCE','BALANCE_FREQUENCY','PURCHASES','ONEOFF_PURCHASES','INSTALLMENTS_PURCHASES','CASH_ADVANCE','PURCHASES_FREQUENCY','ONEOFF_PURCHASES_FREQUENCY','PURCHASES_INSTALLMENTS_FREQUENCY','CASH_ADVANCE_FREQUENCY','CASH_ADVANCE_TRX','PURCHASES_TRX','CREDIT_LIMIT','PAYMENTS','MINIMUM_PAYMENTS','PRC_FULL_PAYMENT','TENURE']].values\n",
    "# print(f.isnull().sum())\n",
    "#print(f.shape)\n"
   ]
  },
  {
   "cell_type": "code",
   "execution_count": null,
   "metadata": {
    "pycharm": {
     "is_executing": true
    }
   },
   "outputs": [],
   "source": [
    "#重置max,maxi,maj的值\n",
    "max=0\n",
    "maxi=0\n",
    "maxj=0\n",
    "# #标准化\n",
    "# scaler = StandardScaler()\n",
    "# X = scaler.fit_transform(X)\n",
    "#Kmeans,根据教学课件中，选择n_clusters和max_iter作为重要参数来进行调参\n",
    "#使用calinski_harabasz score来作为衡量标准，score越高，则表明效果越好\n",
    "print(\"Task2模型为Kmeans，选择n_clusters和max_iter作为重要参数\")\n",
    "print('评价标准使用课件上所讲的calinski_harabasz score，越高则聚类效果越好')\n",
    "#max表示最高的calinski_harabasz分数\n",
    "#maxi表示最高calinski_harabasz分数的n_clusters的值（即簇的个数）\n",
    "#maxj表示最高calinski_harabasz分数的max_iter的值\n",
    "for i in range(2,30):\n",
    "    for j in range(50,200,50):\n",
    "        kmeans= KMeans(n_clusters=i,max_iter=j)\n",
    "        y_pred = kmeans.fit_predict(X)\n",
    "        #因为这里Kmeans的n_clusters>1,所以不会分为1类\n",
    "        #因此不用考虑分类为1时，calinski_harabasz_score不存在的情况\n",
    "        #如果当前参数的calinski_harabasz_score更高，则选择更好的参数\n",
    "        if max<metrics.calinski_harabasz_score(X, y_pred):\n",
    "            max=metrics.calinski_harabasz_score(X, y_pred)\n",
    "            maxi=i\n",
    "            maxj=j\n",
    "#打印出最佳的n_clusters,max_iter值，以及calinski_harabasz_score\n",
    "print('Best n_clusters for Kmeans is :'+str(maxi))\n",
    "print('Best max_iter for Kmeans is :'+str(maxj))\n",
    "print('Best calinski_harabasz_score for Kmeans is :'+str(max))\n",
    "#将效果最好的参数训练的模型绘制出来\n",
    "kmeans= KMeans(n_clusters=maxi,max_iter=j)\n",
    "y_pred = kmeans.fit_predict(X)\n",
    "plt.scatter(X[:, 0], X[:, 1], c=y_pred)\n",
    "plt.xlabel(i)\n",
    "plt.ylabel(j)\n",
    "plt.show()\n",
    "c=time.time()\n",
    "print('Running time for task2 is: '+str((c-b)))"
   ]
  },
  {
   "cell_type": "code",
   "execution_count": null,
   "metadata": {
    "pycharm": {
     "is_executing": true
    }
   },
   "outputs": [],
   "source": []
  },
  {
   "cell_type": "code",
   "execution_count": null,
   "metadata": {},
   "outputs": [],
   "source": []
  }
 ],
 "metadata": {
  "kernelspec": {
   "display_name": "Python 3",
   "language": "python",
   "name": "python3"
  },
  "language_info": {
   "codemirror_mode": {
    "name": "ipython",
    "version": 3
   },
   "file_extension": ".py",
   "mimetype": "text/x-python",
   "name": "python",
   "nbconvert_exporter": "python",
   "pygments_lexer": "ipython3",
   "version": "3.7.10"
  },
  "pycharm": {
   "stem_cell": {
    "cell_type": "raw",
    "metadata": {
     "collapsed": false
    },
    "source": []
   }
  }
 },
 "nbformat": 4,
 "nbformat_minor": 1
}
